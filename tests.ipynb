{
 "cells": [
  {
   "cell_type": "markdown",
   "metadata": {},
   "source": [
    "# Importing modules"
   ]
  },
  {
   "cell_type": "code",
   "execution_count": 5,
   "metadata": {},
   "outputs": [],
   "source": [
    "from preset_source_models import ModelSourceMaker"
   ]
  },
  {
   "cell_type": "markdown",
   "metadata": {},
   "source": [
    "# Generating a model source using presets"
   ]
  },
  {
   "cell_type": "code",
   "execution_count": 6,
   "metadata": {},
   "outputs": [],
   "source": [
    "# Create a ModelSourceMaker instance\n",
    "factory = ModelSourceMaker(\n",
    "    fov_arcsec=100,\n",
    "    npix=128,\n",
    "    ra_dec_center=\"05h35m17.3s -05d23m28s\"\n",
    ")"
   ]
  },
  {
   "cell_type": "code",
   "execution_count": 7,
   "metadata": {},
   "outputs": [],
   "source": [
    "# Generate and save all model images\n",
    "########################################################################################################################\n",
    "factory.generate_and_save(\"flat_disk\", factory.flat_disk(radius_arcsec=30, intensity=2.0))\n",
    "factory.generate_and_save(\"gaussian\", factory.gaussian(fwhm_arcsec=20, amplitude=1.0))\n",
    "factory.generate_and_save(\"elliptical_disk\", factory.elliptical_disk(major_arcsec=40, minor_arcsec=20, angle_deg=45))\n",
    "factory.generate_and_save(\"hollow_ring\", factory.hollow_ring(inner_radius_arcsec=20, outer_radius_arcsec=40))\n",
    "factory.generate_and_save(\"concentric_rings\", factory.concentric_rings(radii_arcsec=[15, 30, 45], widths_arcsec=[2, 5, 7], intensities=[1.0, 0.5, 0.3]))\n",
    "factory.generate_and_save(\"elliptical_gaussian\", factory.elliptical_gaussian(major_fwhm_arcsec=30, minor_fwhm_arcsec=20, angle_deg=30, amplitude=1.0))\n",
    "factory.generate_and_save(\"spiral_arms\", factory.spiral_arms(arm_width_arcsec=5, pitch_angle_deg=20, number_of_turns=3, intensity=1.0))\n",
    "factory.generate_and_save(\"point_sources\", factory.point_sources(source_list=[(0, 0, 1.0), (10, 10, 0.5), (-10, -10, 0.3)]))\n",
    "########################################################################################################################"
   ]
  },
  {
   "cell_type": "code",
   "execution_count": 10,
   "metadata": {},
   "outputs": [],
   "source": [
    "# factory.generate_and_save(\"elliptical_disk_0\", factory.elliptical_disk(major_arcsec=40, minor_arcsec=20, angle_deg=0))\n",
    "# factory.generate_and_save(\"elliptical_disk_45\", factory.elliptical_disk(major_arcsec=40, minor_arcsec=20, angle_deg=45))\n",
    "# factory.generate_and_save(\"elliptical_disk_90\", factory.elliptical_disk(major_arcsec=40, minor_arcsec=20, angle_deg=90))\n",
    "# factory.generate_and_save(\"elliptical_disk_275\", factory.elliptical_disk(major_arcsec=40, minor_arcsec=20, angle_deg=275))\n",
    "# factory.generate_and_save(\"elliptical_disk_-25\", factory.elliptical_disk(major_arcsec=40, minor_arcsec=20, angle_deg=-25))"
   ]
  },
  {
   "cell_type": "code",
   "execution_count": null,
   "metadata": {},
   "outputs": [],
   "source": [
    "# Generate and save a flat disk model\n",
    "# factory2 = ModelSourceMaker(\n",
    "#     fov_arcsec=0.1,\n",
    "#     npix=128,\n",
    "#     ra_dec_center=\"05h35m17.3s -05d23m28s\"\n",
    "# )\n",
    "#factory2.generate_and_save(\"trial_flat_disk\", factory.flat_disk(radius_arcsec=0.03, intensity=2.5))"
   ]
  },
  {
   "cell_type": "markdown",
   "metadata": {},
   "source": [
    "# TODO"
   ]
  }
 ],
 "metadata": {
  "kernelspec": {
   "display_name": "base",
   "language": "python",
   "name": "python3"
  },
  "language_info": {
   "codemirror_mode": {
    "name": "ipython",
    "version": 3
   },
   "file_extension": ".py",
   "mimetype": "text/x-python",
   "name": "python",
   "nbconvert_exporter": "python",
   "pygments_lexer": "ipython3",
   "version": "3.8.8"
  }
 },
 "nbformat": 4,
 "nbformat_minor": 2
}
