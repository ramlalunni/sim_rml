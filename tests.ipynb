{
 "cells": [
  {
   "cell_type": "markdown",
   "metadata": {},
   "source": [
    "# Importing modules"
   ]
  },
  {
   "cell_type": "code",
   "execution_count": 1,
   "metadata": {},
   "outputs": [],
   "source": [
    "from preset_source_models import ModelSourceMaker\n",
    "from simulate_ALMA_observations import run_simalma, extract_MS_data\n",
    "from helpers import process_inputs, check_user_FITS_file"
   ]
  },
  {
   "cell_type": "markdown",
   "metadata": {},
   "source": [
    "# Generating a model source using presets"
   ]
  },
  {
   "cell_type": "code",
   "execution_count": 2,
   "metadata": {},
   "outputs": [
    {
     "name": "stdout",
     "output_type": "stream",
     "text": [
      "Source model FITS file saved to: source_model/trial_flat_disk.fits\n",
      "Image of source model saved as PDF to: source_model/trial_flat_disk.pdf\n"
     ]
    }
   ],
   "source": [
    "# Generate and save a flat disk model\n",
    "factory = ModelSourceMaker(\n",
    "    fov_arcsec=12.8,\n",
    "    npix=128,\n",
    "    freq_Hz=230e9,  # 230 GHz\n",
    "    chan_width_Hz=50e6,  # 50 MHz\n",
    "    ra_dec_center=\"23h59m59.96s -34d59m59.50s\"\n",
    ")\n",
    "factory.generate_and_save(\"trial_flat_disk\", factory.flat_disk(radius_arcsec=3.84, intensity=2.5))"
   ]
  },
  {
   "cell_type": "code",
   "execution_count": null,
   "metadata": {},
   "outputs": [],
   "source": [
    "# Create a ModelSourceMaker instance\n",
    "# factory = ModelSourceMaker(\n",
    "#     fov_arcsec=100,\n",
    "#     npix=128,\n",
    "#     ra_dec_center=\"05h35m17.3s -05d23m28s\"\n",
    "# )"
   ]
  },
  {
   "cell_type": "code",
   "execution_count": null,
   "metadata": {},
   "outputs": [],
   "source": [
    "# Generate and save all model images\n",
    "########################################################################################################################\n",
    "# factory.generate_and_save(\"flat_disk\", factory.flat_disk(radius_arcsec=30, intensity=2.0))\n",
    "# factory.generate_and_save(\"gaussian\", factory.gaussian(fwhm_arcsec=20, amplitude=1.0))\n",
    "# factory.generate_and_save(\"elliptical_disk\", factory.elliptical_disk(major_arcsec=40, minor_arcsec=20, angle_deg=45))\n",
    "# factory.generate_and_save(\"hollow_ring\", factory.hollow_ring(inner_radius_arcsec=20, outer_radius_arcsec=40))\n",
    "# factory.generate_and_save(\"concentric_rings\", factory.concentric_rings(radii_arcsec=[15, 30, 45], widths_arcsec=[2, 5, 7], intensities=[1.0, 0.5, 0.3]))\n",
    "# factory.generate_and_save(\"elliptical_gaussian\", factory.elliptical_gaussian(major_fwhm_arcsec=30, minor_fwhm_arcsec=20, angle_deg=30, amplitude=1.0))\n",
    "# factory.generate_and_save(\"spiral_arms\", factory.spiral_arms(arm_width_arcsec=5, pitch_angle_deg=20, number_of_turns=3, intensity=1.0))\n",
    "# factory.generate_and_save(\"point_sources\", factory.point_sources(source_list=[(0, 0, 1.0), (10, 10, 0.5), (-10, -10, 0.3)]))\n",
    "########################################################################################################################"
   ]
  },
  {
   "cell_type": "code",
   "execution_count": null,
   "metadata": {},
   "outputs": [],
   "source": [
    "# factory.generate_and_save(\"elliptical_disk_0\", factory.elliptical_disk(major_arcsec=40, minor_arcsec=20, angle_deg=0))\n",
    "# factory.generate_and_save(\"elliptical_disk_45\", factory.elliptical_disk(major_arcsec=40, minor_arcsec=20, angle_deg=45))\n",
    "# factory.generate_and_save(\"elliptical_disk_90\", factory.elliptical_disk(major_arcsec=40, minor_arcsec=20, angle_deg=90))\n",
    "# factory.generate_and_save(\"elliptical_disk_275\", factory.elliptical_disk(major_arcsec=40, minor_arcsec=20, angle_deg=275))\n",
    "# factory.generate_and_save(\"elliptical_disk_-25\", factory.elliptical_disk(major_arcsec=40, minor_arcsec=20, angle_deg=-25))"
   ]
  },
  {
   "cell_type": "markdown",
   "metadata": {},
   "source": [
    "# SIMALMA"
   ]
  },
  {
   "cell_type": "code",
   "execution_count": 3,
   "metadata": {},
   "outputs": [
    {
     "data": {
      "text/plain": [
       "True"
      ]
     },
     "execution_count": 3,
     "metadata": {},
     "output_type": "execute_result"
    }
   ],
   "source": [
    "check_user_FITS_file(fits_file=\"source_model/trial_flat_disk.fits\")"
   ]
  },
  {
   "cell_type": "code",
   "execution_count": null,
   "metadata": {},
   "outputs": [],
   "source": [
    "run_simalma(project=\"trial_flat_disk\",\n",
    "            overwrite=True,\n",
    "            skymodel=\"source_model/trial_flat_disk.fits\",\n",
    "            indirection=\"J2000 23h59m59.96s -34d59m59.50s\",\n",
    "            incell=\"0.1arcsec\",\n",
    "            inbright=\"0.004\",\n",
    "            incenter=\"230.0GHz\",\n",
    "            inwidth=\"50MHz\",\n",
    "            antennalist=[\"alma.cycle5.3.cfg\"],\n",
    "            totaltime=\"1800s\",\n",
    "            mapsize=\" \",\n",
    "            tpnant = 0,\n",
    "            tptime=\"0s\",\n",
    "            pwv=0.6,\n",
    "            dryrun = False,\n",
    "            image = False\n",
    "            )"
   ]
  },
  {
   "cell_type": "code",
   "execution_count": null,
   "metadata": {},
   "outputs": [],
   "source": [
    "run_simalma(project=\"trial_flat_disk\",\n",
    "            overwrite=True,\n",
    "            skymodel=\"source_model/trial_flat_disk.fits\",\n",
    "            indirection=\"\",\n",
    "            incell=\"\",\n",
    "            inbright=\"0.004\",\n",
    "            incenter=\"\",\n",
    "            inwidth=\"\",\n",
    "            antennalist=[\"alma.cycle5.3.cfg\"],\n",
    "            totaltime=\"1800s\",\n",
    "            mapsize=\" \",\n",
    "            tpnant = 0,\n",
    "            tptime=\"0s\",\n",
    "            pwv=0.6,\n",
    "            dryrun = False,\n",
    "            image = False\n",
    "            )"
   ]
  },
  {
   "cell_type": "markdown",
   "metadata": {},
   "source": [
    "# Extract MS data to .npz"
   ]
  },
  {
   "cell_type": "code",
   "execution_count": null,
   "metadata": {},
   "outputs": [],
   "source": [
    "ms_path = \"trial_flat_disk/trial_flat_disk.alma.cycle5.3.noisy.ms\"\n",
    "npz_file = \"trial_flat_disk.npz\"\n",
    "\n",
    "_ = extract_MS_data(ms_path=ms_path, npz_file=npz_file, make_visibility_plots=True)"
   ]
  }
 ],
 "metadata": {
  "kernelspec": {
   "display_name": "base",
   "language": "python",
   "name": "python3"
  },
  "language_info": {
   "codemirror_mode": {
    "name": "ipython",
    "version": 3
   },
   "file_extension": ".py",
   "mimetype": "text/x-python",
   "name": "python",
   "nbconvert_exporter": "python",
   "pygments_lexer": "ipython3",
   "version": "3.8.8"
  }
 },
 "nbformat": 4,
 "nbformat_minor": 2
}
