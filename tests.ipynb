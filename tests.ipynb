{
 "cells": [
  {
   "cell_type": "markdown",
   "metadata": {},
   "source": [
    "### Importing modules"
   ]
  },
  {
   "cell_type": "code",
   "execution_count": 1,
   "metadata": {},
   "outputs": [],
   "source": [
    "from preset_source_models import ModelSourceMaker\n",
    "from simulate_ALMA_observations import run_simalma, extract_MS_data\n",
    "from helpers import process_inputs, check_user_FITS_file"
   ]
  },
  {
   "cell_type": "markdown",
   "metadata": {},
   "source": [
    "### Generating a model source using presets"
   ]
  },
  {
   "cell_type": "code",
   "execution_count": 2,
   "metadata": {},
   "outputs": [
    {
     "name": "stdout",
     "output_type": "stream",
     "text": [
      "Source model FITS file saved to: source_model/trial_flat_disk.fits\n",
      "Image of source model saved as PDF to: source_model/trial_flat_disk.pdf\n"
     ]
    }
   ],
   "source": [
    "# Generate and save a flat disk model\n",
    "factory = ModelSourceMaker(\n",
    "    fov_arcsec=12.8,\n",
    "    npix=128,\n",
    "    freq_Hz=230e9,  # 230 GHz\n",
    "    chan_width_Hz=50e6,  # 50 MHz\n",
    "    ra_dec_center=\"23h59m59.96s -34d59m59.50s\"\n",
    ")\n",
    "factory.generate_and_save(\"trial_flat_disk\", factory.flat_disk(radius_arcsec=3.84, intensity=2.5))"
   ]
  },
  {
   "cell_type": "code",
   "execution_count": null,
   "metadata": {},
   "outputs": [],
   "source": [
    "# Create a ModelSourceMaker instance\n",
    "# factory = ModelSourceMaker(\n",
    "#     fov_arcsec=100,\n",
    "#     npix=128,\n",
    "#     ra_dec_center=\"05h35m17.3s -05d23m28s\"\n",
    "# )"
   ]
  },
  {
   "cell_type": "code",
   "execution_count": null,
   "metadata": {},
   "outputs": [],
   "source": [
    "# Generate and save all model images\n",
    "########################################################################################################################\n",
    "# factory.generate_and_save(\"flat_disk\", factory.flat_disk(radius_arcsec=30, intensity=2.0))\n",
    "# factory.generate_and_save(\"gaussian\", factory.gaussian(fwhm_arcsec=20, amplitude=1.0))\n",
    "# factory.generate_and_save(\"elliptical_disk\", factory.elliptical_disk(major_arcsec=40, minor_arcsec=20, angle_deg=45))\n",
    "# factory.generate_and_save(\"hollow_ring\", factory.hollow_ring(inner_radius_arcsec=20, outer_radius_arcsec=40))\n",
    "# factory.generate_and_save(\"concentric_rings\", factory.concentric_rings(radii_arcsec=[15, 30, 45], widths_arcsec=[2, 5, 7], intensities=[1.0, 0.5, 0.3]))\n",
    "# factory.generate_and_save(\"elliptical_gaussian\", factory.elliptical_gaussian(major_fwhm_arcsec=30, minor_fwhm_arcsec=20, angle_deg=30, amplitude=1.0))\n",
    "# factory.generate_and_save(\"spiral_arms\", factory.spiral_arms(arm_width_arcsec=5, pitch_angle_deg=20, number_of_turns=3, intensity=1.0))\n",
    "# factory.generate_and_save(\"point_sources\", factory.point_sources(source_list=[(0, 0, 1.0), (10, 10, 0.5), (-10, -10, 0.3)]))\n",
    "########################################################################################################################"
   ]
  },
  {
   "cell_type": "code",
   "execution_count": null,
   "metadata": {},
   "outputs": [],
   "source": [
    "# factory.generate_and_save(\"elliptical_disk_0\", factory.elliptical_disk(major_arcsec=40, minor_arcsec=20, angle_deg=0))\n",
    "# factory.generate_and_save(\"elliptical_disk_45\", factory.elliptical_disk(major_arcsec=40, minor_arcsec=20, angle_deg=45))\n",
    "# factory.generate_and_save(\"elliptical_disk_90\", factory.elliptical_disk(major_arcsec=40, minor_arcsec=20, angle_deg=90))\n",
    "# factory.generate_and_save(\"elliptical_disk_275\", factory.elliptical_disk(major_arcsec=40, minor_arcsec=20, angle_deg=275))\n",
    "# factory.generate_and_save(\"elliptical_disk_-25\", factory.elliptical_disk(major_arcsec=40, minor_arcsec=20, angle_deg=-25))"
   ]
  },
  {
   "cell_type": "markdown",
   "metadata": {},
   "source": [
    "### Check the input/generated FITS file"
   ]
  },
  {
   "cell_type": "code",
   "execution_count": 3,
   "metadata": {},
   "outputs": [
    {
     "data": {
      "text/plain": [
       "True"
      ]
     },
     "execution_count": 3,
     "metadata": {},
     "output_type": "execute_result"
    }
   ],
   "source": [
    "check_user_FITS_file(fits_file=\"source_model/trial_flat_disk.fits\")"
   ]
  },
  {
   "cell_type": "markdown",
   "metadata": {},
   "source": [
    "### Run SIMALMA"
   ]
  },
  {
   "cell_type": "code",
   "execution_count": null,
   "metadata": {},
   "outputs": [],
   "source": [
    "run_simalma(project=\"trial_flat_disk\",\n",
    "            overwrite=True,\n",
    "            skymodel=\"source_model/trial_flat_disk.fits\",\n",
    "            indirection=\"J2000 23h59m59.96s -34d59m59.50s\",\n",
    "            incell=\"0.1arcsec\",\n",
    "            inbright=\"0.004\",\n",
    "            incenter=\"230.0GHz\",\n",
    "            inwidth=\"50MHz\",\n",
    "            antennalist=[\"alma.cycle5.3.cfg\"],\n",
    "            totaltime=\"1800s\",\n",
    "            mapsize=\" \",\n",
    "            tpnant = 0,\n",
    "            tptime=\"0s\",\n",
    "            pwv=0.6,\n",
    "            dryrun = False,\n",
    "            image = False\n",
    "            )"
   ]
  },
  {
   "cell_type": "code",
   "execution_count": null,
   "metadata": {},
   "outputs": [],
   "source": [
    "run_simalma(project=\"trial_flat_disk\",\n",
    "            overwrite=True,\n",
    "            skymodel=\"source_model/trial_flat_disk.fits\",\n",
    "            indirection=\"\",\n",
    "            incell=\"\",\n",
    "            inbright=\"0.004\",\n",
    "            incenter=\"\",\n",
    "            inwidth=\"\",\n",
    "            antennalist=[\"alma.cycle5.3.cfg\"],\n",
    "            totaltime=\"1800s\",\n",
    "            mapsize=\" \",\n",
    "            tpnant = 0,\n",
    "            tptime=\"0s\",\n",
    "            pwv=0.6,\n",
    "            dryrun = False,\n",
    "            image = False\n",
    "            )"
   ]
  },
  {
   "cell_type": "markdown",
   "metadata": {},
   "source": [
    "### Extract MS data to .npz"
   ]
  },
  {
   "cell_type": "code",
   "execution_count": null,
   "metadata": {},
   "outputs": [],
   "source": [
    "ms_path = \"trial_flat_disk/trial_flat_disk.alma.cycle5.3.noisy.ms\"\n",
    "npz_file = \"trial_flat_disk.npz\"\n",
    "\n",
    "_ = extract_MS_data(ms_path=ms_path, npz_file=npz_file, make_visibility_plots=True)"
   ]
  },
  {
   "cell_type": "markdown",
   "metadata": {},
   "source": [
    "# TO DO / INCOMPLETE"
   ]
  },
  {
   "cell_type": "markdown",
   "metadata": {},
   "source": [
    "### Prepare data for RML imaging"
   ]
  },
  {
   "cell_type": "code",
   "execution_count": 26,
   "metadata": {},
   "outputs": [
    {
     "name": "stdout",
     "output_type": "stream",
     "text": [
      "Image properties: npix = 128, pixel_scale_arcsec = 0.0007812500000000041 arcsec\n",
      "Visibility data shapes: uu=(162540,), vv=(162540,), weight=(162540,), data_re=(162540,), data_im=(162540,)\n"
     ]
    },
    {
     "ename": "ValueError",
     "evalue": "zero-size array to reduction operation minimum which has no identity",
     "output_type": "error",
     "traceback": [
      "\u001b[0;31m---------------------------------------------------------------------------\u001b[0m",
      "\u001b[0;31mValueError\u001b[0m                                Traceback (most recent call last)",
      "Cell \u001b[0;32mIn[26], line 55\u001b[0m\n\u001b[1;32m     43\u001b[0m imager \u001b[38;5;241m=\u001b[39m gridding\u001b[38;5;241m.\u001b[39mDirtyImager(\n\u001b[1;32m     44\u001b[0m     coords\u001b[38;5;241m=\u001b[39mcoords,\n\u001b[1;32m     45\u001b[0m     uu\u001b[38;5;241m=\u001b[39muu,\n\u001b[0;32m   (...)\u001b[0m\n\u001b[1;32m     49\u001b[0m     data_im\u001b[38;5;241m=\u001b[39mdata_im,\n\u001b[1;32m     50\u001b[0m )\n\u001b[1;32m     52\u001b[0m \u001b[38;5;66;03m### Calculating the dirty image and dirty beam and plotting them\u001b[39;00m\n\u001b[1;32m     53\u001b[0m \u001b[38;5;66;03m###~~~~~~~~~~~~~~~~~~~~~~~~~~~~~~~~~~~~~~~~~~~~~~~~~~~~~~~~~~~~~~~~~~~~~~~###\u001b[39;00m\n\u001b[1;32m     54\u001b[0m \u001b[38;5;66;03m# calculate the dirty image and the beam\u001b[39;00m\n\u001b[0;32m---> 55\u001b[0m img, beam, beam_area \u001b[38;5;241m=\u001b[39m \u001b[43mimager\u001b[49m\u001b[38;5;241;43m.\u001b[39;49m\u001b[43mget_dirty_image\u001b[49m\u001b[43m(\u001b[49m\u001b[43mweighting\u001b[49m\u001b[38;5;241;43m=\u001b[39;49m\u001b[38;5;124;43m\"\u001b[39;49m\u001b[38;5;124;43muniform\u001b[39;49m\u001b[38;5;124;43m\"\u001b[39;49m\u001b[43m,\u001b[49m\u001b[43m \u001b[49m\u001b[43mrobust\u001b[49m\u001b[38;5;241;43m=\u001b[39;49m\u001b[38;5;241;43m0.0\u001b[39;49m\u001b[43m,\u001b[49m\u001b[43m \u001b[49m\u001b[43mmax_scatter\u001b[49m\u001b[38;5;241;43m=\u001b[39;49m\u001b[38;5;241;43m2.8\u001b[39;49m\u001b[43m,\u001b[49m\u001b[43m \u001b[49m\u001b[43mget_beam_area\u001b[49m\u001b[38;5;241;43m=\u001b[39;49m\u001b[38;5;28;43;01mTrue\u001b[39;49;00m\u001b[43m)\u001b[49m \u001b[38;5;66;03m# default unit: Jy/beam, can be set to unit='Jy/arcsec^2' also\u001b[39;00m\n\u001b[1;32m     57\u001b[0m \u001b[38;5;28mprint\u001b[39m(beam\u001b[38;5;241m.\u001b[39mshape)\n\u001b[1;32m     58\u001b[0m \u001b[38;5;28mprint\u001b[39m(img\u001b[38;5;241m.\u001b[39mshape)\n",
      "File \u001b[0;32m/opt/anaconda3/lib/python3.8/site-packages/mpol/gridding.py:895\u001b[0m, in \u001b[0;36mDirtyImager.get_dirty_image\u001b[0;34m(self, weighting, robust, taper_function, unit, check_visibility_scatter, max_scatter, get_beam_area, **beam_kwargs)\u001b[0m\n\u001b[1;32m    890\u001b[0m beam \u001b[38;5;241m=\u001b[39m \u001b[38;5;28mself\u001b[39m\u001b[38;5;241m.\u001b[39m_get_dirty_beam(\u001b[38;5;28mself\u001b[39m\u001b[38;5;241m.\u001b[39mC, \u001b[38;5;28mself\u001b[39m\u001b[38;5;241m.\u001b[39mre_gridded_beam)\n\u001b[1;32m    892\u001b[0m \u001b[38;5;66;03m# for units of Jy/arcsec^2, we could just leave out the C constant *if* we were doing\u001b[39;00m\n\u001b[1;32m    893\u001b[0m \u001b[38;5;66;03m# uniform weighting. The relationships get more complex for robust or natural weighting, however,\u001b[39;00m\n\u001b[1;32m    894\u001b[0m \u001b[38;5;66;03m# so it's safer to calculate the number of arcseconds^2 per beam\u001b[39;00m\n\u001b[0;32m--> 895\u001b[0m beam_area_per_chan \u001b[38;5;241m=\u001b[39m \u001b[38;5;28;43mself\u001b[39;49m\u001b[38;5;241;43m.\u001b[39;49m\u001b[43mget_dirty_beam_area\u001b[49m\u001b[43m(\u001b[49m\u001b[38;5;241;43m*\u001b[39;49m\u001b[38;5;241;43m*\u001b[39;49m\u001b[43mbeam_kwargs\u001b[49m\u001b[43m)\u001b[49m  \u001b[38;5;66;03m# [arcsec^2]\u001b[39;00m\n\u001b[1;32m    896\u001b[0m \u001b[38;5;28;01mif\u001b[39;00m unit \u001b[38;5;241m==\u001b[39m \u001b[38;5;124m\"\u001b[39m\u001b[38;5;124mJy/arcsec^2\u001b[39m\u001b[38;5;124m\"\u001b[39m:\n\u001b[1;32m    897\u001b[0m     beam_area_per_chan \u001b[38;5;241m=\u001b[39m \u001b[38;5;28mself\u001b[39m\u001b[38;5;241m.\u001b[39mget_dirty_beam_area(\u001b[38;5;241m*\u001b[39m\u001b[38;5;241m*\u001b[39mbeam_kwargs)  \u001b[38;5;66;03m# [arcsec^2]\u001b[39;00m\n",
      "File \u001b[0;32m/opt/anaconda3/lib/python3.8/site-packages/mpol/gridding.py:824\u001b[0m, in \u001b[0;36mDirtyImager.get_dirty_beam_area\u001b[0;34m(self, ntheta, single_channel_estimate)\u001b[0m\n\u001b[1;32m    813\u001b[0m \u001b[38;5;28;01mdef\u001b[39;00m \u001b[38;5;21mget_dirty_beam_area\u001b[39m(\u001b[38;5;28mself\u001b[39m, ntheta\u001b[38;5;241m=\u001b[39m\u001b[38;5;241m24\u001b[39m, single_channel_estimate\u001b[38;5;241m=\u001b[39m\u001b[38;5;28;01mTrue\u001b[39;00m):\n\u001b[1;32m    814\u001b[0m \u001b[38;5;250m    \u001b[39m\u001b[38;5;124mr\u001b[39m\u001b[38;5;124;03m\"\"\"\u001b[39;00m\n\u001b[1;32m    815\u001b[0m \u001b[38;5;124;03m    Compute the effective area of the dirty beam for each channel. Assumes that the beam has already been generated by running :func:`~mpol.gridding.DirtyImager.get_dirty_image`. This is an approximate calculation involving a simple sum over all pixels out to the first null (zero crossing) of the dirty beam. This quantity is designed to approximate the conversion of image units from :math:`[\\mathrm{Jy}\\,\\mathrm{beam}^{-1}]` to :math:`[\\mathrm{Jy}\\,\\mathrm{arcsec}^{-2}]`, even though units of :math:`[\\mathrm{Jy}\\,\\mathrm{dirty\\;beam}^{-1}]` are technically undefined.\u001b[39;00m\n\u001b[1;32m    816\u001b[0m \n\u001b[0;32m   (...)\u001b[0m\n\u001b[1;32m    822\u001b[0m \u001b[38;5;124;03m        (1D numpy array float) beam area for each channel in units of :math:`[\\mathrm{arcsec}^{2}]`\u001b[39;00m\n\u001b[1;32m    823\u001b[0m \u001b[38;5;124;03m    \"\"\"\u001b[39;00m\n\u001b[0;32m--> 824\u001b[0m     nulled \u001b[38;5;241m=\u001b[39m \u001b[38;5;28;43mself\u001b[39;49m\u001b[38;5;241;43m.\u001b[39;49m\u001b[43m_null_dirty_beam\u001b[49m\u001b[43m(\u001b[49m\n\u001b[1;32m    825\u001b[0m \u001b[43m        \u001b[49m\u001b[43mntheta\u001b[49m\u001b[38;5;241;43m=\u001b[39;49m\u001b[43mntheta\u001b[49m\u001b[43m,\u001b[49m\u001b[43m \u001b[49m\u001b[43msingle_channel_estimate\u001b[49m\u001b[38;5;241;43m=\u001b[39;49m\u001b[43msingle_channel_estimate\u001b[49m\n\u001b[1;32m    826\u001b[0m \u001b[43m    \u001b[49m\u001b[43m)\u001b[49m\n\u001b[1;32m    827\u001b[0m     \u001b[38;5;28;01mreturn\u001b[39;00m \u001b[38;5;28mself\u001b[39m\u001b[38;5;241m.\u001b[39mcoords\u001b[38;5;241m.\u001b[39mcell_size\u001b[38;5;241m*\u001b[39m\u001b[38;5;241m*\u001b[39m\u001b[38;5;241m2\u001b[39m \u001b[38;5;241m*\u001b[39m np\u001b[38;5;241m.\u001b[39msum(nulled, axis\u001b[38;5;241m=\u001b[39m(\u001b[38;5;241m1\u001b[39m, \u001b[38;5;241m2\u001b[39m))\n",
      "File \u001b[0;32m/opt/anaconda3/lib/python3.8/site-packages/mpol/gridding.py:798\u001b[0m, in \u001b[0;36mDirtyImager._null_dirty_beam\u001b[0;34m(self, ntheta, single_channel_estimate)\u001b[0m\n\u001b[1;32m    795\u001b[0m ind_neg_and_az \u001b[38;5;241m=\u001b[39m ind_neg \u001b[38;5;241m&\u001b[39m ind_azimuth\n\u001b[1;32m    797\u001b[0m \u001b[38;5;66;03m# find the smallest r within this slice\u001b[39;00m\n\u001b[0;32m--> 798\u001b[0m min_r \u001b[38;5;241m=\u001b[39m \u001b[43mnp\u001b[49m\u001b[38;5;241;43m.\u001b[39;49m\u001b[43mmin\u001b[49m\u001b[43m(\u001b[49m\u001b[43mrr\u001b[49m\u001b[43m[\u001b[49m\u001b[43mind_neg_and_az\u001b[49m\u001b[43m]\u001b[49m\u001b[43m)\u001b[49m\n\u001b[1;32m    800\u001b[0m \u001b[38;5;66;03m# null all pixels within this slice with radii r or greater\u001b[39;00m\n\u001b[1;32m    801\u001b[0m ind_r \u001b[38;5;241m=\u001b[39m rr \u001b[38;5;241m>\u001b[39m\u001b[38;5;241m=\u001b[39m min_r\n",
      "File \u001b[0;32m<__array_function__ internals>:200\u001b[0m, in \u001b[0;36mamin\u001b[0;34m(*args, **kwargs)\u001b[0m\n",
      "File \u001b[0;32m/opt/anaconda3/lib/python3.8/site-packages/numpy/core/fromnumeric.py:2946\u001b[0m, in \u001b[0;36mamin\u001b[0;34m(a, axis, out, keepdims, initial, where)\u001b[0m\n\u001b[1;32m   2829\u001b[0m \u001b[38;5;129m@array_function_dispatch\u001b[39m(_amin_dispatcher)\n\u001b[1;32m   2830\u001b[0m \u001b[38;5;28;01mdef\u001b[39;00m \u001b[38;5;21mamin\u001b[39m(a, axis\u001b[38;5;241m=\u001b[39m\u001b[38;5;28;01mNone\u001b[39;00m, out\u001b[38;5;241m=\u001b[39m\u001b[38;5;28;01mNone\u001b[39;00m, keepdims\u001b[38;5;241m=\u001b[39mnp\u001b[38;5;241m.\u001b[39m_NoValue, initial\u001b[38;5;241m=\u001b[39mnp\u001b[38;5;241m.\u001b[39m_NoValue,\n\u001b[1;32m   2831\u001b[0m          where\u001b[38;5;241m=\u001b[39mnp\u001b[38;5;241m.\u001b[39m_NoValue):\n\u001b[1;32m   2832\u001b[0m \u001b[38;5;250m    \u001b[39m\u001b[38;5;124;03m\"\"\"\u001b[39;00m\n\u001b[1;32m   2833\u001b[0m \u001b[38;5;124;03m    Return the minimum of an array or minimum along an axis.\u001b[39;00m\n\u001b[1;32m   2834\u001b[0m \n\u001b[0;32m   (...)\u001b[0m\n\u001b[1;32m   2944\u001b[0m \u001b[38;5;124;03m    6\u001b[39;00m\n\u001b[1;32m   2945\u001b[0m \u001b[38;5;124;03m    \"\"\"\u001b[39;00m\n\u001b[0;32m-> 2946\u001b[0m     \u001b[38;5;28;01mreturn\u001b[39;00m \u001b[43m_wrapreduction\u001b[49m\u001b[43m(\u001b[49m\u001b[43ma\u001b[49m\u001b[43m,\u001b[49m\u001b[43m \u001b[49m\u001b[43mnp\u001b[49m\u001b[38;5;241;43m.\u001b[39;49m\u001b[43mminimum\u001b[49m\u001b[43m,\u001b[49m\u001b[43m \u001b[49m\u001b[38;5;124;43m'\u001b[39;49m\u001b[38;5;124;43mmin\u001b[39;49m\u001b[38;5;124;43m'\u001b[39;49m\u001b[43m,\u001b[49m\u001b[43m \u001b[49m\u001b[43maxis\u001b[49m\u001b[43m,\u001b[49m\u001b[43m \u001b[49m\u001b[38;5;28;43;01mNone\u001b[39;49;00m\u001b[43m,\u001b[49m\u001b[43m \u001b[49m\u001b[43mout\u001b[49m\u001b[43m,\u001b[49m\n\u001b[1;32m   2947\u001b[0m \u001b[43m                          \u001b[49m\u001b[43mkeepdims\u001b[49m\u001b[38;5;241;43m=\u001b[39;49m\u001b[43mkeepdims\u001b[49m\u001b[43m,\u001b[49m\u001b[43m \u001b[49m\u001b[43minitial\u001b[49m\u001b[38;5;241;43m=\u001b[39;49m\u001b[43minitial\u001b[49m\u001b[43m,\u001b[49m\u001b[43m \u001b[49m\u001b[43mwhere\u001b[49m\u001b[38;5;241;43m=\u001b[39;49m\u001b[43mwhere\u001b[49m\u001b[43m)\u001b[49m\n",
      "File \u001b[0;32m/opt/anaconda3/lib/python3.8/site-packages/numpy/core/fromnumeric.py:86\u001b[0m, in \u001b[0;36m_wrapreduction\u001b[0;34m(obj, ufunc, method, axis, dtype, out, **kwargs)\u001b[0m\n\u001b[1;32m     83\u001b[0m         \u001b[38;5;28;01melse\u001b[39;00m:\n\u001b[1;32m     84\u001b[0m             \u001b[38;5;28;01mreturn\u001b[39;00m reduction(axis\u001b[38;5;241m=\u001b[39maxis, out\u001b[38;5;241m=\u001b[39mout, \u001b[38;5;241m*\u001b[39m\u001b[38;5;241m*\u001b[39mpasskwargs)\n\u001b[0;32m---> 86\u001b[0m \u001b[38;5;28;01mreturn\u001b[39;00m \u001b[43mufunc\u001b[49m\u001b[38;5;241;43m.\u001b[39;49m\u001b[43mreduce\u001b[49m\u001b[43m(\u001b[49m\u001b[43mobj\u001b[49m\u001b[43m,\u001b[49m\u001b[43m \u001b[49m\u001b[43maxis\u001b[49m\u001b[43m,\u001b[49m\u001b[43m \u001b[49m\u001b[43mdtype\u001b[49m\u001b[43m,\u001b[49m\u001b[43m \u001b[49m\u001b[43mout\u001b[49m\u001b[43m,\u001b[49m\u001b[43m \u001b[49m\u001b[38;5;241;43m*\u001b[39;49m\u001b[38;5;241;43m*\u001b[39;49m\u001b[43mpasskwargs\u001b[49m\u001b[43m)\u001b[49m\n",
      "\u001b[0;31mValueError\u001b[0m: zero-size array to reduction operation minimum which has no identity"
     ]
    }
   ],
   "source": [
    "import numpy as np\n",
    "from astropy.io import fits\n",
    "from mpol import coordinates, gridding\n",
    "import matplotlib.pyplot as plt\n",
    "from mpl_toolkits.axes_grid1 import make_axes_locatable\n",
    "\n",
    "fits_file_path = \"source_model/flat_disk.fits\"\n",
    "npz_file = \"data_for_rml/flat_disk.npz\"\n",
    "\n",
    "# Read npix and pixel_scale_arcsec from the FITS header\n",
    "header = fits.getheader(fits_file_path)\n",
    "npix = header['NAXIS1']  # Assuming square image, NAXIS1 and NAXIS2 are the same\n",
    "if 'CUNIT1' in header:\n",
    "    if header['CUNIT1'].lower() == 'arcsec':\n",
    "        pixel_scale_arcsec = abs(header['CDELT1'])  # Already in arcseconds\n",
    "    elif header['CUNIT1'].lower() == 'deg':\n",
    "        pixel_scale_arcsec = abs(header['CDELT1']) * 3600\n",
    "    elif header['CUNIT1'].lower() == 'rad':\n",
    "        pixel_scale_arcsec = abs(header['CDELT1']) * 206264.80624709636\n",
    "    else:\n",
    "        raise ValueError(f\"Unrecognised CUNIT1 value: {header['CUNIT1']}\")\n",
    "else:\n",
    "    raise ValueError(\"CUNIT1 not found in the FITS header. Please ensure that the FITS file has the required header keywords.\")\n",
    "\n",
    "print(f\"Image properties: npix = {npix}, pixel_scale_arcsec = {pixel_scale_arcsec} arcsec\")\n",
    "\n",
    "# instantiate the gridcoords object\n",
    "coords = coordinates.GridCoords(cell_size=pixel_scale_arcsec, npix=npix)\n",
    "\n",
    "# Read the visibility data from the .npz file\n",
    "npz_data = np.load(npz_file)\n",
    "uu = npz_data['u']  # u coordinates in meters\n",
    "vv = npz_data['v']  # v coordinates in meters\n",
    "weight = npz_data['weight']  # visibility weights\n",
    "vis_data = npz_data['data']  # visibility data (complex numbers)\n",
    "data_re = np.real(vis_data) # real part of visibility data\n",
    "data_im = np.imag(vis_data) # imaginary part of visibility data\n",
    "# Print the shapes of the extracted data\n",
    "\n",
    "print(f\"Visibility data shapes: uu={uu.shape}, vv={vv.shape}, weight={weight.shape}, data_re={data_re.shape}, data_im={data_im.shape}\")\n",
    "\n",
    "# instantiate the dirty imager object\n",
    "imager = gridding.DirtyImager(\n",
    "    coords=coords,\n",
    "    uu=uu,\n",
    "    vv=vv,\n",
    "    weight=weight,\n",
    "    data_re=data_re,\n",
    "    data_im=data_im,\n",
    ")\n",
    "\n",
    "### Calculating the dirty image and dirty beam and plotting them\n",
    "###~~~~~~~~~~~~~~~~~~~~~~~~~~~~~~~~~~~~~~~~~~~~~~~~~~~~~~~~~~~~~~~~~~~~~~~###\n",
    "# calculate the dirty image and the beam\n",
    "img, beam, beam_area = imager.get_dirty_image(weighting=\"uniform\", robust=0.0, max_scatter=2.8, get_beam_area=True) # default unit: Jy/beam, can be set to unit='Jy/arcsec^2' also\n",
    "\n",
    "print(beam.shape)\n",
    "print(img.shape)\n",
    "beam_area = beam_area[0]\n",
    "print('Beam area:', beam_area)\n",
    "\n",
    "# visualise the calculated dirty image and dirty beam\n",
    "kw = {\"origin\": \"lower\", \"interpolation\": \"none\", \"extent\": imager.coords.img_ext}\n",
    "fig, ax = plt.subplots(ncols=2, figsize=(6, 3))\n",
    "ax[0].imshow(beam[0], **kw)\n",
    "ax[0].set_title(\"beam\")\n",
    "#ax[0].set_xlim(-0.1, 0.1)\n",
    "#ax[0].set_ylim(-0.1, 0.1)\n",
    "img0_for_cbar = ax[1].imshow(img[0], **kw)\n",
    "ax[1].set_title(\"image\")\n",
    "#plt.colorbar(img0_for_cbar, ax=ax[1], orientation=\"vertical\", pad=0.01)\n",
    "# Create a new axis for the colorbar next to ax[1]\n",
    "divider = make_axes_locatable(ax[1])\n",
    "cax = divider.append_axes(\"right\", size=\"5%\", pad=0.05)\n",
    "# Add colorbar to the new axis (cax)\n",
    "plt.colorbar(img0_for_cbar, cax=cax)\n",
    "\n",
    "for a in ax:\n",
    "    a.set_xlabel(r\"$\\Delta \\alpha \\cos \\delta$ [${}^{\\prime\\prime}$]\")\n",
    "    a.set_ylabel(r\"$\\Delta \\delta$ [${}^{\\prime\\prime}$]\")\n",
    "plt.tight_layout()\n",
    "plt.show()\n",
    "###~~~~~~~~~~~~~~~~~~~~~~~~~~~~~~~~~~~~~~~~~~~~~~~~~~~~~~~~~~~~~~~~~~~~~~~###\n",
    "\n",
    "### Average and export the data to PyTorch dataset\n",
    "###~~~~~~~~~~~~~~~~~~~~~~~~~~~~~~~~~~~~~~~~~~~~~~~~~~~~~~~~~~~~~~~~~~~~~~~###\n",
    "# average the data\n",
    "averager = gridding.DataAverager(coords=coords, uu=uu, vv=vv, weight=weight, data_re=data_re, data_im=data_im)\n",
    "\n",
    "# export to PyTorch dataset\n",
    "dset = averager.to_pytorch_dataset(max_scatter=2.8)\n",
    "###~~~~~~~~~~~~~~~~~~~~~~~~~~~~~~~~~~~~~~~~~~~~~~~~~~~~~~~~~~~~~~~~~~~~~~~###\n"
   ]
  },
  {
   "cell_type": "code",
   "execution_count": null,
   "metadata": {},
   "outputs": [],
   "source": []
  }
 ],
 "metadata": {
  "kernelspec": {
   "display_name": "base",
   "language": "python",
   "name": "python3"
  },
  "language_info": {
   "codemirror_mode": {
    "name": "ipython",
    "version": 3
   },
   "file_extension": ".py",
   "mimetype": "text/x-python",
   "name": "python",
   "nbconvert_exporter": "python",
   "pygments_lexer": "ipython3",
   "version": "3.8.8"
  }
 },
 "nbformat": 4,
 "nbformat_minor": 2
}
