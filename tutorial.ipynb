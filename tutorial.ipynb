{
 "cells": [
  {
   "cell_type": "code",
   "execution_count": 1,
   "metadata": {},
   "outputs": [],
   "source": [
    "# Import necessary libraries\n",
    "from helpers import load_inputs\n",
    "from preset_source_models import ModelSourceMaker\n",
    "from simulate_ALMA_observations import run_simalma, extract_MS_data"
   ]
  },
  {
   "cell_type": "code",
   "execution_count": 2,
   "metadata": {},
   "outputs": [],
   "source": [
    "# Load inputs from the YAML file\n",
    "inputs = load_inputs(\"inputs\")"
   ]
  },
  {
   "cell_type": "code",
   "execution_count": 3,
   "metadata": {},
   "outputs": [
    {
     "name": "stdout",
     "output_type": "stream",
     "text": [
      "Generating a source model from a preset.\n",
      "\n",
      "User specified parameters:\n",
      "fov_arcsec: 0.1\n",
      "npix: 128\n",
      "ra_dec_center: 23h59m59.96s -34d59m59.50s\n",
      "preset_function_name: flat_disk\n",
      "model_name: flat_disk\n",
      "radius_arcsec: 0.03\n",
      "intensity: 2.5\n",
      "\n",
      "\n",
      "Source model FITS file saved to: source_model/flat_disk.fits\n",
      "Image of source model saved as PDF to: source_model/flat_disk.pdf\n"
     ]
    }
   ],
   "source": [
    "# Run if the user has requested to use a specified preset source model\n",
    "if inputs[\"modules\"][\"generate_preset_source_model\"]:\n",
    "    print(\"Generating a source model from a preset.\\n\")\n",
    "    print(\"User specified parameters:\")\n",
    "    for key, value in inputs[\"preset_model\"].items():\n",
    "        print(f\"{key}: {value}\")\n",
    "    print(\"\\n\")\n",
    "\n",
    "    # Generate a source model from a preset and save it to a FITS file\n",
    "    ###~~~~~~~~~~~~~~~~~~~~~~~~~~~~~~~~~~~~~~~~~~~~~~~~~~~~~~~~~~~~~~~~~~~~~~~~~~~~~~~~~~~~~~~~~~~###\n",
    "    # Initialise the preset model factory\n",
    "    factory = ModelSourceMaker(\n",
    "        fov_arcsec=inputs[\"preset_model\"][\"fov_arcsec\"],\n",
    "        npix=inputs[\"preset_model\"][\"npix\"],\n",
    "        ra_dec_center=inputs[\"preset_model\"][\"ra_dec_center\"])\n",
    "\n",
    "    # Get the preset function name and parameters from the inputs\n",
    "    func_name = inputs[\"preset_model\"][\"preset_function_name\"]\n",
    "\n",
    "    # Get the method from the factory\n",
    "    model_func = getattr(factory, func_name)\n",
    "\n",
    "    # Get the model name from inputs\n",
    "    model_name = inputs[\"preset_model\"][\"model_name\"]\n",
    "\n",
    "    # Filter out keys that are not arguments to the model function\n",
    "    params = {k: v for k, v in inputs[\"preset_model\"].items()\n",
    "            if k not in [\"fov_arcsec\", \"npix\", \"ra_dec_center\", \"preset_function_name\", \"model_name\"]}\n",
    "\n",
    "    # Generate and save the source model image to a FITS file\n",
    "    factory.generate_and_save(model_name, model_func(**params))\n",
    "    ###~~~~~~~~~~~~~~~~~~~~~~~~~~~~~~~~~~~~~~~~~~~~~~~~~~~~~~~~~~~~~~~~~~~~~~~~~~~~~~~~~~~~~~~~~~~###"
   ]
  },
  {
   "cell_type": "markdown",
   "metadata": {},
   "source": [
    "# TODO\n",
    "\n",
    "##### - Add frequency to preset source model FITS file header.\n",
    "##### - For user provided FITS file, write a function to check if it has all necessary keywords in the header.\n",
    "##### - Add simalma run and MS data extraction to the input.yaml and the tutorial notebook."
   ]
  }
 ],
 "metadata": {
  "kernelspec": {
   "display_name": "base",
   "language": "python",
   "name": "python3"
  },
  "language_info": {
   "codemirror_mode": {
    "name": "ipython",
    "version": 3
   },
   "file_extension": ".py",
   "mimetype": "text/x-python",
   "name": "python",
   "nbconvert_exporter": "python",
   "pygments_lexer": "ipython3",
   "version": "3.8.8"
  }
 },
 "nbformat": 4,
 "nbformat_minor": 2
}
